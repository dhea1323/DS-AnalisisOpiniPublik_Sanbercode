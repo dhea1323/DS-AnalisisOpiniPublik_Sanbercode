{
 "cells": [
  {
   "cell_type": "code",
   "execution_count": 1,
   "metadata": {},
   "outputs": [
    {
     "name": "stdout",
     "output_type": "stream",
     "text": [
      "('liu', '888', 'bin', 'liu', '888', 'bin')\n",
      "{'one': 1, 'two': 2}\n",
      "dict_values([1, 2])\n"
     ]
    }
   ],
   "source": [
    "import pandas as pd\n",
    "import tweepy \n",
    "import re\n",
    "import str"
   ]
  },
  {
   "cell_type": "code",
   "execution_count": 2,
   "metadata": {},
   "outputs": [],
   "source": [
    "def multiple_tweet(username, n_count):\n",
    "    consumer_key = \"cTBT1n87ukBpmM0QuCC3bGOwO\"\n",
    "    consumer_secret = \"tRq379XcJxGGi1IymKLOo9aDt4fkZAw04By0Vqfpot0N3EKEq8\"\n",
    "    access_token = \"436497459-tBgNtry64Zqzka11KVsxxJAnJo7GMLz0wriWYF3m\"\n",
    "    access_token_secret = \"aGL6TQzck6QRbDosDXXuHweOOSWTodkf3OxNPOCQhFY06\"\n",
    "    auth = tweepy.OAuthHandler(consumer_key, consumer_secret)\n",
    "    auth.set_access_token(access_token, access_token_secret)\n",
    "    api = tweepy.API(auth)\n",
    "    \n",
    "    hasil = api.user_timeline(id = username , count = n_count, tweet_mode = 'extended')\n",
    "    list_hasil = []\n",
    "    for tweet in hasil:\n",
    "        tweets = tweet.full_text\n",
    "        list_hasil.append(tweets)\n",
    "    return pd.Series(list_hasil)"
   ]
  },
  {
   "cell_type": "code",
   "execution_count": 3,
   "metadata": {},
   "outputs": [],
   "source": [
    "user1 = 'kompascom'\n",
    "user2 = 'pikiran_rakyat'\n",
    "n_tweet = 50\n",
    "\n",
    "raw_kompas = multiple_tweet(user1, n_tweet)\n",
    "raw_pikiran_rakyat = multiple_tweet(user2, n_tweet)\n",
    "kompas = raw_kompas.copy()\n",
    "pikiran_rakyat = raw_pikiran_rakyat.copy()"
   ]
  },
  {
   "cell_type": "markdown",
   "metadata": {},
   "source": [
    "# Pre-Processing"
   ]
  },
  {
   "cell_type": "code",
   "execution_count": 4,
   "metadata": {},
   "outputs": [],
   "source": [
    "def case_folding_stopwords (data):\n",
    "    new_data = data.str.lower().str.replace(r\"\\d+\", \"\").str.replace(r'[^\\w\\s]', '').str.strip()\n",
    "    stopwords = ['dan', 'yang', 'untuk', 'pada', 'ke', 'karena', 'oleh', 'akan', 'dengan']\n",
    "    querywords = new_data.str.split()\n",
    "    resultwords = [word for word in querywords if word not in stopwords]\n",
    "    result = (pd.Series(resultwords)).str.join(' ')\n",
    "    return result                                                      "
   ]
  },
  {
   "cell_type": "code",
   "execution_count": 6,
   "metadata": {},
   "outputs": [],
   "source": [
    "clean_kompas = pd.DataFrame(case_folding_stopwords(kompas), columns = ['Clean Kompascom'])\n",
    "clean_pikiran_rakyat = pd.DataFrame(case_folding_stopwords(pikiran_rakyat), columns = ['Clean Pikiranrakyat'])\n",
    "\n",
    "gabungan_kompas = pd.concat([kompas, clean_kompas], axis = 1)\n",
    "gabungan_pikiran_rakyat = pd.concat([pikiran_rakyat, clean_pikiran_rakyat], axis = 1)\n",
    "gabungan = pd.concat([gabungan_kompas, gabungan_pikiran_rakyat], axis = 1)\n",
    "gabungan.columns = ['Raw Kompascom', 'Clean Kompascom', 'Raw Pikiranrakyat', 'Clean Pikiranrakyat']\n",
    "gabungan\n",
    "#gabungan.to_csv('dhea1323_tugas_10.csv')"
   ]
  }
 ],
 "metadata": {
  "kernelspec": {
   "display_name": "Python 3",
   "language": "python",
   "name": "python3"
  },
  "language_info": {
   "codemirror_mode": {
    "name": "ipython",
    "version": 3
   },
   "file_extension": ".py",
   "mimetype": "text/x-python",
   "name": "python",
   "nbconvert_exporter": "python",
   "pygments_lexer": "ipython3",
   "version": "3.8.5"
  }
 },
 "nbformat": 4,
 "nbformat_minor": 4
}
