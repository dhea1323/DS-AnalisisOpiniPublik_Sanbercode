{
 "cells": [
  {
   "cell_type": "code",
   "execution_count": 6,
   "metadata": {
    "id": "sLpZ9Eyp9gf6"
   },
   "outputs": [],
   "source": [
    "import requests\n",
    "from Sastrawi.Stemmer.StemmerFactory import StemmerFactory\n",
    "from bs4 import BeautifulSoup\n",
    "from urllib.request import urlopen\n",
    "import pandas as pd\n",
    "import re"
   ]
  },
  {
   "cell_type": "code",
   "execution_count": 69,
   "metadata": {
    "id": "toiWY7SDwQxH"
   },
   "outputs": [],
   "source": [
    "url = \"https://nasional.kompas.com/read/2020/12/17/09084331/alasan-jokowi-putuskan-vaksin-covid-19-digratiskan-untuk-masyarakat?page=all#page2\"\n",
    "html = urlopen(url)\n",
    "data = BeautifulSoup(html, 'html.parser')"
   ]
  },
  {
   "cell_type": "code",
   "execution_count": 9,
   "metadata": {
    "id": "LwZgBjIKxPOy"
   },
   "outputs": [],
   "source": [
    "headline = data.findAll(\"div\", {\"class\":\"most__wrap clearfix\"})[0]\n",
    "title = headline.findAll(\"h4\", {\"class\":\"most__title\"})"
   ]
  },
  {
   "cell_type": "code",
   "execution_count": 11,
   "metadata": {
    "colab": {
     "base_uri": "https://localhost:8080/",
     "height": 359
    },
    "id": "bO3WvyysxQgX",
    "outputId": "09775578-cf9f-492c-eba8-92223ac1ef61"
   },
   "outputs": [],
   "source": [
    "hasil = []\n",
    "for i in range(len(title)):\n",
    "  titles = title[i].get_text()\n",
    "  hasil.append(titles)\n",
    "df = pd.DataFrame(hasil, columns = ['Judul Berita Populer'])\n"
   ]
  },
  {
   "cell_type": "markdown",
   "metadata": {},
   "source": [
    "# NLP dan Sastrawi"
   ]
  },
  {
   "cell_type": "code",
   "execution_count": 68,
   "metadata": {},
   "outputs": [
    {
     "data": {
      "text/html": [
       "<div>\n",
       "<style scoped>\n",
       "    .dataframe tbody tr th:only-of-type {\n",
       "        vertical-align: middle;\n",
       "    }\n",
       "\n",
       "    .dataframe tbody tr th {\n",
       "        vertical-align: top;\n",
       "    }\n",
       "\n",
       "    .dataframe thead th {\n",
       "        text-align: right;\n",
       "    }\n",
       "</style>\n",
       "<table border=\"1\" class=\"dataframe\">\n",
       "  <thead>\n",
       "    <tr style=\"text-align: right;\">\n",
       "      <th></th>\n",
       "      <th>Paragraf</th>\n",
       "    </tr>\n",
       "  </thead>\n",
       "  <tbody>\n",
       "    <tr>\n",
       "      <th>0</th>\n",
       "      <td>JAKARTA, KOMPAS.com - Sekretaris Eksekutif Kom...</td>\n",
       "    </tr>\n",
       "    <tr>\n",
       "      <th>1</th>\n",
       "      <td>Menurutnya, Jokowi mempertimbangkan penggunaan...</td>\n",
       "    </tr>\n",
       "    <tr>\n",
       "      <th>2</th>\n",
       "      <td>Herd immunity tidak hanya berkaitan dengan tin...</td>\n",
       "    </tr>\n",
       "    <tr>\n",
       "      <th>3</th>\n",
       "      <td>Terkait hal ini, kata Raden, Jokowi mendapat m...</td>\n",
       "    </tr>\n",
       "    <tr>\n",
       "      <th>4</th>\n",
       "      <td>\"Presiden mendengarkan berdasarkan pertemuan l...</td>\n",
       "    </tr>\n",
       "    <tr>\n",
       "      <th>5</th>\n",
       "      <td>\"Mereka itu punya ini kriteria-kriteria terten...</td>\n",
       "    </tr>\n",
       "    <tr>\n",
       "      <th>6</th>\n",
       "      <td>Baca juga: Jokowi: Vaksin Covid-19 Gratis untu...</td>\n",
       "    </tr>\n",
       "    <tr>\n",
       "      <th>7</th>\n",
       "      <td>Raden menyebut, masukan dari berbagai pihak in...</td>\n",
       "    </tr>\n",
       "    <tr>\n",
       "      <th>8</th>\n",
       "      <td>DPR mendorong penerapan prinsip keadilan dalam...</td>\n",
       "    </tr>\n",
       "    <tr>\n",
       "      <th>9</th>\n",
       "      <td>\"Karena dalam prinsip-prinsip itu disebutkan p...</td>\n",
       "    </tr>\n",
       "    <tr>\n",
       "      <th>10</th>\n",
       "      <td>Sebelumnya, Jokowi mengumumkan bahwa pemerinta...</td>\n",
       "    </tr>\n",
       "    <tr>\n",
       "      <th>11</th>\n",
       "      <td>Keputusan ini diambil setelah para pemangku ke...</td>\n",
       "    </tr>\n",
       "    <tr>\n",
       "      <th>12</th>\n",
       "      <td>\"Jadi setelah menerima banyak masukan dari mas...</td>\n",
       "    </tr>\n",
       "    <tr>\n",
       "      <th>13</th>\n",
       "      <td>Baca juga: Soal Vaksin Gratis yang Digunakan u...</td>\n",
       "    </tr>\n",
       "    <tr>\n",
       "      <th>14</th>\n",
       "      <td>\"Sekali lagi gratis, tidak dikenakan biaya sam...</td>\n",
       "    </tr>\n",
       "    <tr>\n",
       "      <th>15</th>\n",
       "      <td>Atas keputusan ini, Jokowi menginstruksikan ja...</td>\n",
       "    </tr>\n",
       "    <tr>\n",
       "      <th>16</th>\n",
       "      <td>Ia juga memerintahkan Menteri Keuangan Sri Mul...</td>\n",
       "    </tr>\n",
       "    <tr>\n",
       "      <th>17</th>\n",
       "      <td>\"Sehingga tidak ada alasan bagi masyarakat unt...</td>\n",
       "    </tr>\n",
       "    <tr>\n",
       "      <th>18</th>\n",
       "      <td>Artikel ini telah tayang di Kontan.co.id denga...</td>\n",
       "    </tr>\n",
       "  </tbody>\n",
       "</table>\n",
       "</div>"
      ],
      "text/plain": [
       "                                             Paragraf\n",
       "0   JAKARTA, KOMPAS.com - Sekretaris Eksekutif Kom...\n",
       "1   Menurutnya, Jokowi mempertimbangkan penggunaan...\n",
       "2   Herd immunity tidak hanya berkaitan dengan tin...\n",
       "3   Terkait hal ini, kata Raden, Jokowi mendapat m...\n",
       "4   \"Presiden mendengarkan berdasarkan pertemuan l...\n",
       "5   \"Mereka itu punya ini kriteria-kriteria terten...\n",
       "6   Baca juga: Jokowi: Vaksin Covid-19 Gratis untu...\n",
       "7   Raden menyebut, masukan dari berbagai pihak in...\n",
       "8   DPR mendorong penerapan prinsip keadilan dalam...\n",
       "9   \"Karena dalam prinsip-prinsip itu disebutkan p...\n",
       "10  Sebelumnya, Jokowi mengumumkan bahwa pemerinta...\n",
       "11  Keputusan ini diambil setelah para pemangku ke...\n",
       "12  \"Jadi setelah menerima banyak masukan dari mas...\n",
       "13  Baca juga: Soal Vaksin Gratis yang Digunakan u...\n",
       "14  \"Sekali lagi gratis, tidak dikenakan biaya sam...\n",
       "15  Atas keputusan ini, Jokowi menginstruksikan ja...\n",
       "16  Ia juga memerintahkan Menteri Keuangan Sri Mul...\n",
       "17  \"Sehingga tidak ada alasan bagi masyarakat unt...\n",
       "18  Artikel ini telah tayang di Kontan.co.id denga..."
      ]
     },
     "execution_count": 68,
     "metadata": {},
     "output_type": "execute_result"
    }
   ],
   "source": [
    "#halaman 1\n",
    "header = data.findAll(\"div\", {\"data-io-article-url\":\"https://nasional.kompas.com/read/2020/12/17/09084331/alasan-jokowi-putuskan-vaksin-covid-19-digratiskan-untuk-masyarakat\"})[0]\n",
    "parag = h1.find_all(\"p\")\n",
    "hasil = []\n",
    "for i in range (1,len(parag)):\n",
    "    isi = parag[i].get_text()\n",
    "    hasil.append(isi)\n",
    "df = pd.DataFrame(hasil, columns = ['Paragraf'] ) \n",
    "df\n"
   ]
  }
 ],
 "metadata": {
  "accelerator": "GPU",
  "colab": {
   "collapsed_sections": [],
   "name": "dhea1323_hari_7",
   "provenance": []
  },
  "kernelspec": {
   "display_name": "Python 3",
   "language": "python",
   "name": "python3"
  },
  "language_info": {
   "codemirror_mode": {
    "name": "ipython",
    "version": 3
   },
   "file_extension": ".py",
   "mimetype": "text/x-python",
   "name": "python",
   "nbconvert_exporter": "python",
   "pygments_lexer": "ipython3",
   "version": "3.8.5"
  }
 },
 "nbformat": 4,
 "nbformat_minor": 1
}
