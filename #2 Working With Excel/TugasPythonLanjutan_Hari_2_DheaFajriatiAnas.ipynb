{
 "cells": [
  {
   "cell_type": "markdown",
   "metadata": {},
   "source": [
    "# Import Modul"
   ]
  },
  {
   "cell_type": "code",
   "execution_count": 1,
   "metadata": {},
   "outputs": [],
   "source": [
    "import pandas as pd\n",
    "import xlsxwriter"
   ]
  },
  {
   "cell_type": "markdown",
   "metadata": {},
   "source": [
    "# Open File CSV with Pandas"
   ]
  },
  {
   "cell_type": "code",
   "execution_count": 2,
   "metadata": {},
   "outputs": [],
   "source": [
    "df1 = pd.read_csv('jumlah-penduduk-kota-bandung.csv')\n",
    "df2 = pd.read_csv('luas-wilayah-menurut-kecamatan-di-kota-bandung-2017.csv')\n",
    "df_penduduk = df1.copy()\n",
    "df_luaswilayah = df2.copy()"
   ]
  },
  {
   "cell_type": "code",
   "execution_count": 3,
   "metadata": {},
   "outputs": [],
   "source": [
    "df_penduduk.columns = ['Nama Kecamatan', 'Jumlah_Kelurahan', 'Jumlah_Penduduk']"
   ]
  },
  {
   "cell_type": "markdown",
   "metadata": {},
   "source": [
    "# Check Data with Pandas"
   ]
  },
  {
   "cell_type": "code",
   "execution_count": 4,
   "metadata": {},
   "outputs": [],
   "source": [
    "#Mengurutkan data agar mudah dicek\n",
    "df_penduduk = df_penduduk.sort_values(by=['Nama Kecamatan'], ascending=False)\n",
    "df_luaswilayah = df_luaswilayah.sort_values(by=['Nama Kecamatan'], ascending=True)"
   ]
  },
  {
   "cell_type": "code",
   "execution_count": 5,
   "metadata": {},
   "outputs": [
    {
     "data": {
      "text/plain": [
       "array(['Ujung Berung', 'Sumur Bandung', 'Sukasari', 'Sukajadi', 'Regol',\n",
       "       'Rancasari', 'Panyileukan', 'Mandalajati', 'Lengkong',\n",
       "       'Kiaracondong', 'Gedebage', 'Coblong', 'Cinambo', 'Cidadap',\n",
       "       'Cicendo', 'Cibiru', 'Cibeunying Kidul', 'Cibeunying Kaler',\n",
       "       'Buah Batu', 'Bojongloa Kidul', 'Bojongloa Kaler', 'Batununggal',\n",
       "       'Bandung Wetan', 'Bandung Kulon', 'Bandung Kidul',\n",
       "       'Babakan Ciparay', 'Astanaanyar', 'Arcamanik', 'Antapani', 'Andir'],\n",
       "      dtype=object)"
      ]
     },
     "execution_count": 5,
     "metadata": {},
     "output_type": "execute_result"
    }
   ],
   "source": [
    "df_penduduk['Nama Kecamatan'].unique()"
   ]
  },
  {
   "cell_type": "code",
   "execution_count": 6,
   "metadata": {},
   "outputs": [
    {
     "data": {
      "text/plain": [
       "array(['Andir', 'Antapani', 'Arcamanik', 'Astana Anyar',\n",
       "       'Babakan Ciparay', 'Bandung Kidul', 'Bandung Kulon',\n",
       "       'Bandung Wetan', 'Batununggal', 'Bojongloa Kaler',\n",
       "       'Bojongloa Kidul', 'Buahbatu', 'Cibeunying Kaler',\n",
       "       'Cibeunying Kidul', 'Cibiru', 'Cicendo', 'Cidadap', 'Cinambo',\n",
       "       'Coblong', 'Gedebage', 'Kiaracondong', 'Lengkong', 'Mandalajati',\n",
       "       'Panyileukan', 'Rancasari', 'Regol', 'Sukajadi', 'Sukasari',\n",
       "       'Sumur Bandung', 'Ujungberung'], dtype=object)"
      ]
     },
     "execution_count": 6,
     "metadata": {},
     "output_type": "execute_result"
    }
   ],
   "source": [
    "df_luaswilayah['Nama Kecamatan'].unique()"
   ]
  },
  {
   "cell_type": "markdown",
   "metadata": {},
   "source": [
    "<b>Hasil pengecekan:</b> <br>\n",
    "Setelah dicek ternyata ada perbedaan penamaan pada 3 Kecamatan, yaitu Astana Anyar, Buah Batu, dan Ujung Berung."
   ]
  },
  {
   "cell_type": "code",
   "execution_count": 7,
   "metadata": {},
   "outputs": [],
   "source": [
    "df_penduduk['Nama Kecamatan'].replace({'Astanaanyar': 'Astana Anyar', 'Buah Batu': 'Buahbatu', 'Ujung Berung':'Ujungberung'}, inplace=True)"
   ]
  },
  {
   "cell_type": "markdown",
   "metadata": {},
   "source": [
    "# Merge with Pandas"
   ]
  },
  {
   "cell_type": "code",
   "execution_count": 8,
   "metadata": {},
   "outputs": [
    {
     "data": {
      "text/html": [
       "<div>\n",
       "<style scoped>\n",
       "    .dataframe tbody tr th:only-of-type {\n",
       "        vertical-align: middle;\n",
       "    }\n",
       "\n",
       "    .dataframe tbody tr th {\n",
       "        vertical-align: top;\n",
       "    }\n",
       "\n",
       "    .dataframe thead th {\n",
       "        text-align: right;\n",
       "    }\n",
       "</style>\n",
       "<table border=\"1\" class=\"dataframe\">\n",
       "  <thead>\n",
       "    <tr style=\"text-align: right;\">\n",
       "      <th></th>\n",
       "      <th>Nama Kecamatan</th>\n",
       "      <th>Jumlah_Kelurahan</th>\n",
       "      <th>Jumlah_Penduduk</th>\n",
       "      <th>Luas Wilayah (m2)</th>\n",
       "    </tr>\n",
       "  </thead>\n",
       "  <tbody>\n",
       "    <tr>\n",
       "      <th>0</th>\n",
       "      <td>Ujungberung</td>\n",
       "      <td>5</td>\n",
       "      <td>76902</td>\n",
       "      <td>6240000</td>\n",
       "    </tr>\n",
       "    <tr>\n",
       "      <th>1</th>\n",
       "      <td>Sumur Bandung</td>\n",
       "      <td>4</td>\n",
       "      <td>36579</td>\n",
       "      <td>3490000</td>\n",
       "    </tr>\n",
       "    <tr>\n",
       "      <th>2</th>\n",
       "      <td>Sukasari</td>\n",
       "      <td>4</td>\n",
       "      <td>81908</td>\n",
       "      <td>6360000</td>\n",
       "    </tr>\n",
       "    <tr>\n",
       "      <th>3</th>\n",
       "      <td>Sukajadi</td>\n",
       "      <td>5</td>\n",
       "      <td>108375</td>\n",
       "      <td>5280000</td>\n",
       "    </tr>\n",
       "    <tr>\n",
       "      <th>4</th>\n",
       "      <td>Regol</td>\n",
       "      <td>7</td>\n",
       "      <td>81467</td>\n",
       "      <td>4740000</td>\n",
       "    </tr>\n",
       "  </tbody>\n",
       "</table>\n",
       "</div>"
      ],
      "text/plain": [
       "  Nama Kecamatan  Jumlah_Kelurahan  Jumlah_Penduduk  Luas Wilayah (m2)\n",
       "0    Ujungberung                 5            76902            6240000\n",
       "1  Sumur Bandung                 4            36579            3490000\n",
       "2       Sukasari                 4            81908            6360000\n",
       "3       Sukajadi                 5           108375            5280000\n",
       "4          Regol                 7            81467            4740000"
      ]
     },
     "execution_count": 8,
     "metadata": {},
     "output_type": "execute_result"
    }
   ],
   "source": [
    "df_gabungan = pd.merge(df_penduduk, df_luaswilayah, how = 'outer', on = 'Nama Kecamatan')\n",
    "df_gabungan.head()"
   ]
  },
  {
   "cell_type": "markdown",
   "metadata": {},
   "source": [
    "# Kepadatan Penduduk (per 100 m2)"
   ]
  },
  {
   "cell_type": "code",
   "execution_count": 9,
   "metadata": {},
   "outputs": [
    {
     "data": {
      "text/html": [
       "<div>\n",
       "<style scoped>\n",
       "    .dataframe tbody tr th:only-of-type {\n",
       "        vertical-align: middle;\n",
       "    }\n",
       "\n",
       "    .dataframe tbody tr th {\n",
       "        vertical-align: top;\n",
       "    }\n",
       "\n",
       "    .dataframe thead th {\n",
       "        text-align: right;\n",
       "    }\n",
       "</style>\n",
       "<table border=\"1\" class=\"dataframe\">\n",
       "  <thead>\n",
       "    <tr style=\"text-align: right;\">\n",
       "      <th></th>\n",
       "      <th>Nama Kecamatan</th>\n",
       "      <th>Jumlah_Kelurahan</th>\n",
       "      <th>Jumlah_Penduduk</th>\n",
       "      <th>Luas Wilayah (m2)</th>\n",
       "      <th>Kepadatan Penduduk (per 100 m2)</th>\n",
       "    </tr>\n",
       "  </thead>\n",
       "  <tbody>\n",
       "    <tr>\n",
       "      <th>0</th>\n",
       "      <td>Ujungberung</td>\n",
       "      <td>5</td>\n",
       "      <td>76902</td>\n",
       "      <td>6240000</td>\n",
       "      <td>1.232404</td>\n",
       "    </tr>\n",
       "    <tr>\n",
       "      <th>1</th>\n",
       "      <td>Sumur Bandung</td>\n",
       "      <td>4</td>\n",
       "      <td>36579</td>\n",
       "      <td>3490000</td>\n",
       "      <td>1.048109</td>\n",
       "    </tr>\n",
       "    <tr>\n",
       "      <th>2</th>\n",
       "      <td>Sukasari</td>\n",
       "      <td>4</td>\n",
       "      <td>81908</td>\n",
       "      <td>6360000</td>\n",
       "      <td>1.287862</td>\n",
       "    </tr>\n",
       "    <tr>\n",
       "      <th>3</th>\n",
       "      <td>Sukajadi</td>\n",
       "      <td>5</td>\n",
       "      <td>108375</td>\n",
       "      <td>5280000</td>\n",
       "      <td>2.052557</td>\n",
       "    </tr>\n",
       "    <tr>\n",
       "      <th>4</th>\n",
       "      <td>Regol</td>\n",
       "      <td>7</td>\n",
       "      <td>81467</td>\n",
       "      <td>4740000</td>\n",
       "      <td>1.718713</td>\n",
       "    </tr>\n",
       "  </tbody>\n",
       "</table>\n",
       "</div>"
      ],
      "text/plain": [
       "  Nama Kecamatan  Jumlah_Kelurahan  Jumlah_Penduduk  Luas Wilayah (m2)  \\\n",
       "0    Ujungberung                 5            76902            6240000   \n",
       "1  Sumur Bandung                 4            36579            3490000   \n",
       "2       Sukasari                 4            81908            6360000   \n",
       "3       Sukajadi                 5           108375            5280000   \n",
       "4          Regol                 7            81467            4740000   \n",
       "\n",
       "   Kepadatan Penduduk (per 100 m2)  \n",
       "0                         1.232404  \n",
       "1                         1.048109  \n",
       "2                         1.287862  \n",
       "3                         2.052557  \n",
       "4                         1.718713  "
      ]
     },
     "execution_count": 9,
     "metadata": {},
     "output_type": "execute_result"
    }
   ],
   "source": [
    "df_gabungan['Kepadatan Penduduk (per 100 m2)'] = df_gabungan['Jumlah_Penduduk']/(df_gabungan['Luas Wilayah (m2)']/100)\n",
    "df_gabungan.head()"
   ]
  },
  {
   "cell_type": "markdown",
   "metadata": {},
   "source": [
    "# Save Dataframe and Chart to Excel with XlsxWriter"
   ]
  },
  {
   "cell_type": "code",
   "execution_count": 10,
   "metadata": {},
   "outputs": [],
   "source": [
    "hasil1 = df_gabungan[['Nama Kecamatan', 'Jumlah_Kelurahan', 'Jumlah_Penduduk', 'Luas Wilayah (m2)']]\n",
    "hasil2 = df_gabungan[['Nama Kecamatan', 'Kepadatan Penduduk (per 100 m2)']]"
   ]
  },
  {
   "cell_type": "code",
   "execution_count": 11,
   "metadata": {},
   "outputs": [],
   "source": [
    "with pd.ExcelWriter('Dhea Fajriati Anas.xlsx') as writer :\n",
    "    #Dataframe to Excel\n",
    "    hasil1.to_excel(writer, sheet_name = 'Data_Keseluruhan', index = False)\n",
    "    hasil2.to_excel(writer, sheet_name = 'Data_Kepadatan_Penduduk', index = False)\n",
    "    \n",
    "    #Chart\n",
    "    wb = writer.book\n",
    "    ws = writer.sheets['Data_Kepadatan_Penduduk']\n",
    "    chart = wb.add_chart({'type' : 'column'})\n",
    "    chart.add_series({'categories':'=Data_Kepadatan_Penduduk!$A$2:$A$6',\n",
    "                      'values':'=Data_Kepadatan_Penduduk!$B$2:$B$6',\n",
    "                     'fill' : {'color':'green'}})\n",
    "    chart.set_size({'width': 720, 'height': 576})\n",
    "    chart.set_title({'name':'Kepadatan Penduduk Kota Bandung'})\n",
    "    chart.set_x_axis({'name':'Kecamatan'})\n",
    "    chart.set_y_axis({'name':'Kepadatan Penduduk (per 100 m2)'})\n",
    "    ws.insert_chart('D2', chart)"
   ]
  }
 ],
 "metadata": {
  "kernelspec": {
   "display_name": "Python 3",
   "language": "python",
   "name": "python3"
  },
  "language_info": {
   "codemirror_mode": {
    "name": "ipython",
    "version": 3
   },
   "file_extension": ".py",
   "mimetype": "text/x-python",
   "name": "python",
   "nbconvert_exporter": "python",
   "pygments_lexer": "ipython3",
   "version": "3.8.5"
  }
 },
 "nbformat": 4,
 "nbformat_minor": 4
}
